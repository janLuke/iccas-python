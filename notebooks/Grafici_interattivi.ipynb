{
 "cells": [
  {
   "cell_type": "code",
   "execution_count": 1,
   "metadata": {},
   "outputs": [],
   "source": [
    "%load_ext autoreload\n",
    "%autoreload 2\n",
    "\n",
    "import typing as ty\n",
    "from functools import partial\n",
    "\n",
    "import numpy as np\n",
    "import pandas as pd\n",
    "\n",
    "import matplotlib as mpl\n",
    "import matplotlib.pyplot as plt\n",
    "import seaborn as sns\n",
    "\n",
    "import ipywidgets as widgets\n",
    "from IPython.display import display, HTML\n",
    "\n",
    "import iccas as ic\n",
    "import util\n",
    "\n",
    "# Matplotlib settings and utilities\n",
    "%matplotlib inline\n",
    "plt.style.use('seaborn')\n",
    "mpl.rcParams.update({\n",
    "    'axes.titlesize': 16,\n",
    "    'axes.titley': 1.03,\n",
    "    'axes.labelsize': 14\n",
    "})\n",
    "\n",
    "ic.set_locale('it')"
   ]
  },
  {
   "cell_type": "markdown",
   "metadata": {},
   "source": [
    "## Correzione e pre-elaborazione dei dati\n",
    "\n",
    "I dati originali estratti dai bollettini PDF dell'ISS sono a tratti inconsistenti. Il numero di casi/decessi totali dall'inizio della pandemia dovrebbe infatti crescere nel tempo ma in alcuni tratti le serie temporali decrescono per poi tornare nuovamente a crescere. Questo problema è in realtà presente in maniera rilevante solo nei dati sui decessi ed è quasi del tutto assente nei dati sui casi. \n",
    "\n",
    "Visto che il più delle volte non si tratta di singoli punti anomali, presumo che le decrescite a valori più bassi siano dovute a rettifiche dei dati. Dunque, nel correggere i dati, ho assunto che i valori della serie che raggiungono temporaneamente livelli più alti di valori successivi siano invalidi e li ho sostituiti con valori interpolati (metodo PCHIP).\n",
    "\n",
    "Per maggiori dettagli si veda `Correzione_dati.ipynb`."
   ]
  },
  {
   "cell_type": "markdown",
   "metadata": {},
   "source": [
    "<center><img src='esempio_correzione.png'></center>"
   ]
  },
  {
   "cell_type": "code",
   "execution_count": 2,
   "metadata": {},
   "outputs": [
    {
     "data": {
      "text/html": [
       "<style  type=\"text/css\" >\n",
       "</style><table id=\"T_4642baaf_342c_11eb_9f17_a8a15930a2a5\" ><caption>Casi dall'inizio della pandemia (ultimi 5 bollettini)</caption><thead>    <tr>        <th class=\"index_name level0\" >age_group</th>        <th class=\"col_heading level0 col0\" >0-9</th>        <th class=\"col_heading level0 col1\" >10-19</th>        <th class=\"col_heading level0 col2\" >20-29</th>        <th class=\"col_heading level0 col3\" >30-39</th>        <th class=\"col_heading level0 col4\" >40-49</th>        <th class=\"col_heading level0 col5\" >50-59</th>        <th class=\"col_heading level0 col6\" >60-69</th>        <th class=\"col_heading level0 col7\" >70-79</th>        <th class=\"col_heading level0 col8\" >80-89</th>        <th class=\"col_heading level0 col9\" >>=90</th>        <th class=\"col_heading level0 col10\" >unknown</th>    </tr>    <tr>        <th class=\"index_name level0\" >date</th>        <th class=\"blank\" ></th>        <th class=\"blank\" ></th>        <th class=\"blank\" ></th>        <th class=\"blank\" ></th>        <th class=\"blank\" ></th>        <th class=\"blank\" ></th>        <th class=\"blank\" ></th>        <th class=\"blank\" ></th>        <th class=\"blank\" ></th>        <th class=\"blank\" ></th>        <th class=\"blank\" ></th>    </tr></thead><tbody>\n",
       "                <tr>\n",
       "                        <th id=\"T_4642baaf_342c_11eb_9f17_a8a15930a2a5level0_row0\" class=\"row_heading level0 row0\" >2020-10-27 11:00:00</th>\n",
       "                        <td id=\"T_4642baaf_342c_11eb_9f17_a8a15930a2a5row0_col0\" class=\"data row0 col0\" >17115</td>\n",
       "                        <td id=\"T_4642baaf_342c_11eb_9f17_a8a15930a2a5row0_col1\" class=\"data row0 col1\" >39862</td>\n",
       "                        <td id=\"T_4642baaf_342c_11eb_9f17_a8a15930a2a5row0_col2\" class=\"data row0 col2\" >62925</td>\n",
       "                        <td id=\"T_4642baaf_342c_11eb_9f17_a8a15930a2a5row0_col3\" class=\"data row0 col3\" >61176</td>\n",
       "                        <td id=\"T_4642baaf_342c_11eb_9f17_a8a15930a2a5row0_col4\" class=\"data row0 col4\" >77187</td>\n",
       "                        <td id=\"T_4642baaf_342c_11eb_9f17_a8a15930a2a5row0_col5\" class=\"data row0 col5\" >91208</td>\n",
       "                        <td id=\"T_4642baaf_342c_11eb_9f17_a8a15930a2a5row0_col6\" class=\"data row0 col6\" >59521</td>\n",
       "                        <td id=\"T_4642baaf_342c_11eb_9f17_a8a15930a2a5row0_col7\" class=\"data row0 col7\" >51553</td>\n",
       "                        <td id=\"T_4642baaf_342c_11eb_9f17_a8a15930a2a5row0_col8\" class=\"data row0 col8\" >54214</td>\n",
       "                        <td id=\"T_4642baaf_342c_11eb_9f17_a8a15930a2a5row0_col9\" class=\"data row0 col9\" >23462</td>\n",
       "                        <td id=\"T_4642baaf_342c_11eb_9f17_a8a15930a2a5row0_col10\" class=\"data row0 col10\" >101</td>\n",
       "            </tr>\n",
       "            <tr>\n",
       "                        <th id=\"T_4642baaf_342c_11eb_9f17_a8a15930a2a5level0_row1\" class=\"row_heading level0 row1\" >2020-11-07 11:00:00</th>\n",
       "                        <td id=\"T_4642baaf_342c_11eb_9f17_a8a15930a2a5row1_col0\" class=\"data row1 col0\" >29237</td>\n",
       "                        <td id=\"T_4642baaf_342c_11eb_9f17_a8a15930a2a5row1_col1\" class=\"data row1 col1\" >73182</td>\n",
       "                        <td id=\"T_4642baaf_342c_11eb_9f17_a8a15930a2a5row1_col2\" class=\"data row1 col2\" >104884</td>\n",
       "                        <td id=\"T_4642baaf_342c_11eb_9f17_a8a15930a2a5row1_col3\" class=\"data row1 col3\" >101273</td>\n",
       "                        <td id=\"T_4642baaf_342c_11eb_9f17_a8a15930a2a5row1_col4\" class=\"data row1 col4\" >128375</td>\n",
       "                        <td id=\"T_4642baaf_342c_11eb_9f17_a8a15930a2a5row1_col5\" class=\"data row1 col5\" >146908</td>\n",
       "                        <td id=\"T_4642baaf_342c_11eb_9f17_a8a15930a2a5row1_col6\" class=\"data row1 col6\" >90879</td>\n",
       "                        <td id=\"T_4642baaf_342c_11eb_9f17_a8a15930a2a5row1_col7\" class=\"data row1 col7\" >71995</td>\n",
       "                        <td id=\"T_4642baaf_342c_11eb_9f17_a8a15930a2a5row1_col8\" class=\"data row1 col8\" >69340</td>\n",
       "                        <td id=\"T_4642baaf_342c_11eb_9f17_a8a15930a2a5row1_col9\" class=\"data row1 col9\" >28400</td>\n",
       "                        <td id=\"T_4642baaf_342c_11eb_9f17_a8a15930a2a5row1_col10\" class=\"data row1 col10\" >106</td>\n",
       "            </tr>\n",
       "            <tr>\n",
       "                        <th id=\"T_4642baaf_342c_11eb_9f17_a8a15930a2a5level0_row2\" class=\"row_heading level0 row2\" >2020-11-11 11:00:00</th>\n",
       "                        <td id=\"T_4642baaf_342c_11eb_9f17_a8a15930a2a5row2_col0\" class=\"data row2 col0\" >34309</td>\n",
       "                        <td id=\"T_4642baaf_342c_11eb_9f17_a8a15930a2a5row2_col1\" class=\"data row2 col1\" >85064</td>\n",
       "                        <td id=\"T_4642baaf_342c_11eb_9f17_a8a15930a2a5row2_col2\" class=\"data row2 col2\" >122052</td>\n",
       "                        <td id=\"T_4642baaf_342c_11eb_9f17_a8a15930a2a5row2_col3\" class=\"data row2 col3\" >118862</td>\n",
       "                        <td id=\"T_4642baaf_342c_11eb_9f17_a8a15930a2a5row2_col4\" class=\"data row2 col4\" >151099</td>\n",
       "                        <td id=\"T_4642baaf_342c_11eb_9f17_a8a15930a2a5row2_col5\" class=\"data row2 col5\" >172707</td>\n",
       "                        <td id=\"T_4642baaf_342c_11eb_9f17_a8a15930a2a5row2_col6\" class=\"data row2 col6\" >105716</td>\n",
       "                        <td id=\"T_4642baaf_342c_11eb_9f17_a8a15930a2a5row2_col7\" class=\"data row2 col7\" >82135</td>\n",
       "                        <td id=\"T_4642baaf_342c_11eb_9f17_a8a15930a2a5row2_col8\" class=\"data row2 col8\" >76991</td>\n",
       "                        <td id=\"T_4642baaf_342c_11eb_9f17_a8a15930a2a5row2_col9\" class=\"data row2 col9\" >30926</td>\n",
       "                        <td id=\"T_4642baaf_342c_11eb_9f17_a8a15930a2a5row2_col10\" class=\"data row2 col10\" >114</td>\n",
       "            </tr>\n",
       "            <tr>\n",
       "                        <th id=\"T_4642baaf_342c_11eb_9f17_a8a15930a2a5level0_row3\" class=\"row_heading level0 row3\" >2020-11-18 11:00:00</th>\n",
       "                        <td id=\"T_4642baaf_342c_11eb_9f17_a8a15930a2a5row3_col0\" class=\"data row3 col0\" >43841</td>\n",
       "                        <td id=\"T_4642baaf_342c_11eb_9f17_a8a15930a2a5row3_col1\" class=\"data row3 col1\" >105378</td>\n",
       "                        <td id=\"T_4642baaf_342c_11eb_9f17_a8a15930a2a5row3_col2\" class=\"data row3 col2\" >152675</td>\n",
       "                        <td id=\"T_4642baaf_342c_11eb_9f17_a8a15930a2a5row3_col3\" class=\"data row3 col3\" >150360</td>\n",
       "                        <td id=\"T_4642baaf_342c_11eb_9f17_a8a15930a2a5row3_col4\" class=\"data row3 col4\" >193504</td>\n",
       "                        <td id=\"T_4642baaf_342c_11eb_9f17_a8a15930a2a5row3_col5\" class=\"data row3 col5\" >220532</td>\n",
       "                        <td id=\"T_4642baaf_342c_11eb_9f17_a8a15930a2a5row3_col6\" class=\"data row3 col6\" >134416</td>\n",
       "                        <td id=\"T_4642baaf_342c_11eb_9f17_a8a15930a2a5row3_col7\" class=\"data row3 col7\" >102186</td>\n",
       "                        <td id=\"T_4642baaf_342c_11eb_9f17_a8a15930a2a5row3_col8\" class=\"data row3 col8\" >92089</td>\n",
       "                        <td id=\"T_4642baaf_342c_11eb_9f17_a8a15930a2a5row3_col9\" class=\"data row3 col9\" >36266</td>\n",
       "                        <td id=\"T_4642baaf_342c_11eb_9f17_a8a15930a2a5row3_col10\" class=\"data row3 col10\" >120</td>\n",
       "            </tr>\n",
       "            <tr>\n",
       "                        <th id=\"T_4642baaf_342c_11eb_9f17_a8a15930a2a5level0_row4\" class=\"row_heading level0 row4\" >2020-11-25 11:00:00</th>\n",
       "                        <td id=\"T_4642baaf_342c_11eb_9f17_a8a15930a2a5row4_col0\" class=\"data row4 col0\" >51938</td>\n",
       "                        <td id=\"T_4642baaf_342c_11eb_9f17_a8a15930a2a5row4_col1\" class=\"data row4 col1\" >122212</td>\n",
       "                        <td id=\"T_4642baaf_342c_11eb_9f17_a8a15930a2a5row4_col2\" class=\"data row4 col2\" >178532</td>\n",
       "                        <td id=\"T_4642baaf_342c_11eb_9f17_a8a15930a2a5row4_col3\" class=\"data row4 col3\" >178453</td>\n",
       "                        <td id=\"T_4642baaf_342c_11eb_9f17_a8a15930a2a5row4_col4\" class=\"data row4 col4\" >230654</td>\n",
       "                        <td id=\"T_4642baaf_342c_11eb_9f17_a8a15930a2a5row4_col5\" class=\"data row4 col5\" >262420</td>\n",
       "                        <td id=\"T_4642baaf_342c_11eb_9f17_a8a15930a2a5row4_col6\" class=\"data row4 col6\" >160621</td>\n",
       "                        <td id=\"T_4642baaf_342c_11eb_9f17_a8a15930a2a5row4_col7\" class=\"data row4 col7\" >121048</td>\n",
       "                        <td id=\"T_4642baaf_342c_11eb_9f17_a8a15930a2a5row4_col8\" class=\"data row4 col8\" >107062</td>\n",
       "                        <td id=\"T_4642baaf_342c_11eb_9f17_a8a15930a2a5row4_col9\" class=\"data row4 col9\" >41474</td>\n",
       "                        <td id=\"T_4642baaf_342c_11eb_9f17_a8a15930a2a5row4_col10\" class=\"data row4 col10\" >115</td>\n",
       "            </tr>\n",
       "    </tbody></table>"
      ],
      "text/plain": [
       "<pandas.io.formats.style.Styler at 0x20af31e5c10>"
      ]
     },
     "execution_count": 2,
     "metadata": {},
     "output_type": "execute_result"
    }
   ],
   "source": [
    "# Load original data, take only cases and deaths counts and fix monotonicity as explained above\n",
    "data = ic.fix_monotonicity(ic.only_counts(ic.get()))\n",
    "(data.cases.tail(5).style\n",
    "     .set_caption(\"Casi dall'inizio della pandemia (ultimi 5 bollettini)\")\n",
    ")"
   ]
  },
  {
   "cell_type": "markdown",
   "metadata": {},
   "source": [
    "I dati dei bollettini non sono uniformemente distribuiti nel tempo. Essi erano inizialmente bisettimanali e sono adesso settimanali, ma la cadenza non è mai stata regolare. Per alcuni grafici, mi è utile avere dati giornalieri. Otterò tali dati per interpolazione."
   ]
  },
  {
   "cell_type": "code",
   "execution_count": 3,
   "metadata": {},
   "outputs": [
    {
     "data": {
      "text/html": [
       "<style  type=\"text/css\" >\n",
       "</style><table id=\"T_4658846a_342c_11eb_878e_a8a15930a2a5\" ><caption>Casi totali dall'inizio della pandemia (dati interpolati, ultimi 5 giorni)</caption><thead>    <tr>        <th class=\"index_name level0\" >age_group</th>        <th class=\"col_heading level0 col0\" >0-9</th>        <th class=\"col_heading level0 col1\" >10-19</th>        <th class=\"col_heading level0 col2\" >20-29</th>        <th class=\"col_heading level0 col3\" >30-39</th>        <th class=\"col_heading level0 col4\" >40-49</th>        <th class=\"col_heading level0 col5\" >50-59</th>        <th class=\"col_heading level0 col6\" >60-69</th>        <th class=\"col_heading level0 col7\" >70-79</th>        <th class=\"col_heading level0 col8\" >80-89</th>        <th class=\"col_heading level0 col9\" >>=90</th>        <th class=\"col_heading level0 col10\" >unknown</th>    </tr>    <tr>        <th class=\"index_name level0\" >date</th>        <th class=\"blank\" ></th>        <th class=\"blank\" ></th>        <th class=\"blank\" ></th>        <th class=\"blank\" ></th>        <th class=\"blank\" ></th>        <th class=\"blank\" ></th>        <th class=\"blank\" ></th>        <th class=\"blank\" ></th>        <th class=\"blank\" ></th>        <th class=\"blank\" ></th>        <th class=\"blank\" ></th>    </tr></thead><tbody>\n",
       "                <tr>\n",
       "                        <th id=\"T_4658846a_342c_11eb_878e_a8a15930a2a5level0_row0\" class=\"row_heading level0 row0\" >2020-11-21 18:00:00</th>\n",
       "                        <td id=\"T_4658846a_342c_11eb_878e_a8a15930a2a5row0_col0\" class=\"data row0 col0\" >47820</td>\n",
       "                        <td id=\"T_4658846a_342c_11eb_878e_a8a15930a2a5row0_col1\" class=\"data row0 col1\" >113706</td>\n",
       "                        <td id=\"T_4658846a_342c_11eb_878e_a8a15930a2a5row0_col2\" class=\"data row0 col2\" >165401</td>\n",
       "                        <td id=\"T_4658846a_342c_11eb_878e_a8a15930a2a5row0_col3\" class=\"data row0 col3\" >163982</td>\n",
       "                        <td id=\"T_4658846a_342c_11eb_878e_a8a15930a2a5row0_col4\" class=\"data row0 col4\" >211605</td>\n",
       "                        <td id=\"T_4658846a_342c_11eb_878e_a8a15930a2a5row0_col5\" class=\"data row0 col5\" >240943</td>\n",
       "                        <td id=\"T_4658846a_342c_11eb_878e_a8a15930a2a5row0_col6\" class=\"data row0 col6\" >147042</td>\n",
       "                        <td id=\"T_4658846a_342c_11eb_878e_a8a15930a2a5row0_col7\" class=\"data row0 col7\" >111201</td>\n",
       "                        <td id=\"T_4658846a_342c_11eb_878e_a8a15930a2a5row0_col8\" class=\"data row0 col8\" >99145</td>\n",
       "                        <td id=\"T_4658846a_342c_11eb_878e_a8a15930a2a5row0_col9\" class=\"data row0 col9\" >38731</td>\n",
       "                        <td id=\"T_4658846a_342c_11eb_878e_a8a15930a2a5row0_col10\" class=\"data row0 col10\" >119</td>\n",
       "            </tr>\n",
       "            <tr>\n",
       "                        <th id=\"T_4658846a_342c_11eb_878e_a8a15930a2a5level0_row1\" class=\"row_heading level0 row1\" >2020-11-22 18:00:00</th>\n",
       "                        <td id=\"T_4658846a_342c_11eb_878e_a8a15930a2a5row1_col0\" class=\"data row1 col0\" >48970</td>\n",
       "                        <td id=\"T_4658846a_342c_11eb_878e_a8a15930a2a5row1_col1\" class=\"data row1 col1\" >116097</td>\n",
       "                        <td id=\"T_4658846a_342c_11eb_878e_a8a15930a2a5row1_col2\" class=\"data row1 col2\" >169075</td>\n",
       "                        <td id=\"T_4658846a_342c_11eb_878e_a8a15930a2a5row1_col3\" class=\"data row1 col3\" >167979</td>\n",
       "                        <td id=\"T_4658846a_342c_11eb_878e_a8a15930a2a5row1_col4\" class=\"data row1 col4\" >216888</td>\n",
       "                        <td id=\"T_4658846a_342c_11eb_878e_a8a15930a2a5row1_col5\" class=\"data row1 col5\" >246899</td>\n",
       "                        <td id=\"T_4658846a_342c_11eb_878e_a8a15930a2a5row1_col6\" class=\"data row1 col6\" >150773</td>\n",
       "                        <td id=\"T_4658846a_342c_11eb_878e_a8a15930a2a5row1_col7\" class=\"data row1 col7\" >113890</td>\n",
       "                        <td id=\"T_4658846a_342c_11eb_878e_a8a15930a2a5row1_col8\" class=\"data row1 col8\" >101284</td>\n",
       "                        <td id=\"T_4658846a_342c_11eb_878e_a8a15930a2a5row1_col9\" class=\"data row1 col9\" >39475</td>\n",
       "                        <td id=\"T_4658846a_342c_11eb_878e_a8a15930a2a5row1_col10\" class=\"data row1 col10\" >118</td>\n",
       "            </tr>\n",
       "            <tr>\n",
       "                        <th id=\"T_4658846a_342c_11eb_878e_a8a15930a2a5level0_row2\" class=\"row_heading level0 row2\" >2020-11-23 18:00:00</th>\n",
       "                        <td id=\"T_4658846a_342c_11eb_878e_a8a15930a2a5row2_col0\" class=\"data row2 col0\" >50092</td>\n",
       "                        <td id=\"T_4658846a_342c_11eb_878e_a8a15930a2a5row2_col1\" class=\"data row2 col1\" >118417</td>\n",
       "                        <td id=\"T_4658846a_342c_11eb_878e_a8a15930a2a5row2_col2\" class=\"data row2 col2\" >172652</td>\n",
       "                        <td id=\"T_4658846a_342c_11eb_878e_a8a15930a2a5row2_col3\" class=\"data row2 col3\" >171907</td>\n",
       "                        <td id=\"T_4658846a_342c_11eb_878e_a8a15930a2a5row2_col4\" class=\"data row2 col4\" >222065</td>\n",
       "                        <td id=\"T_4658846a_342c_11eb_878e_a8a15930a2a5row2_col5\" class=\"data row2 col5\" >252736</td>\n",
       "                        <td id=\"T_4658846a_342c_11eb_878e_a8a15930a2a5row2_col6\" class=\"data row2 col6\" >154453</td>\n",
       "                        <td id=\"T_4658846a_342c_11eb_878e_a8a15930a2a5row2_col7\" class=\"data row2 col7\" >116554</td>\n",
       "                        <td id=\"T_4658846a_342c_11eb_878e_a8a15930a2a5row2_col8\" class=\"data row2 col8\" >103419</td>\n",
       "                        <td id=\"T_4658846a_342c_11eb_878e_a8a15930a2a5row2_col9\" class=\"data row2 col9\" >40215</td>\n",
       "                        <td id=\"T_4658846a_342c_11eb_878e_a8a15930a2a5row2_col10\" class=\"data row2 col10\" >117</td>\n",
       "            </tr>\n",
       "            <tr>\n",
       "                        <th id=\"T_4658846a_342c_11eb_878e_a8a15930a2a5level0_row3\" class=\"row_heading level0 row3\" >2020-11-24 18:00:00</th>\n",
       "                        <td id=\"T_4658846a_342c_11eb_878e_a8a15930a2a5row3_col0\" class=\"data row3 col0\" >51183</td>\n",
       "                        <td id=\"T_4658846a_342c_11eb_878e_a8a15930a2a5row3_col1\" class=\"data row3 col1\" >120665</td>\n",
       "                        <td id=\"T_4658846a_342c_11eb_878e_a8a15930a2a5row3_col2\" class=\"data row3 col2\" >176130</td>\n",
       "                        <td id=\"T_4658846a_342c_11eb_878e_a8a15930a2a5row3_col3\" class=\"data row3 col3\" >175764</td>\n",
       "                        <td id=\"T_4658846a_342c_11eb_878e_a8a15930a2a5row3_col4\" class=\"data row3 col4\" >227132</td>\n",
       "                        <td id=\"T_4658846a_342c_11eb_878e_a8a15930a2a5row3_col5\" class=\"data row3 col5\" >258450</td>\n",
       "                        <td id=\"T_4658846a_342c_11eb_878e_a8a15930a2a5row3_col6\" class=\"data row3 col6\" >158082</td>\n",
       "                        <td id=\"T_4658846a_342c_11eb_878e_a8a15930a2a5row3_col7\" class=\"data row3 col7\" >119193</td>\n",
       "                        <td id=\"T_4658846a_342c_11eb_878e_a8a15930a2a5row3_col8\" class=\"data row3 col8\" >105553</td>\n",
       "                        <td id=\"T_4658846a_342c_11eb_878e_a8a15930a2a5row3_col9\" class=\"data row3 col9\" >40953</td>\n",
       "                        <td id=\"T_4658846a_342c_11eb_878e_a8a15930a2a5row3_col10\" class=\"data row3 col10\" >116</td>\n",
       "            </tr>\n",
       "            <tr>\n",
       "                        <th id=\"T_4658846a_342c_11eb_878e_a8a15930a2a5level0_row4\" class=\"row_heading level0 row4\" >2020-11-25 18:00:00</th>\n",
       "                        <td id=\"T_4658846a_342c_11eb_878e_a8a15930a2a5row4_col0\" class=\"data row4 col0\" >52244</td>\n",
       "                        <td id=\"T_4658846a_342c_11eb_878e_a8a15930a2a5row4_col1\" class=\"data row4 col1\" >122838</td>\n",
       "                        <td id=\"T_4658846a_342c_11eb_878e_a8a15930a2a5row4_col2\" class=\"data row4 col2\" >179506</td>\n",
       "                        <td id=\"T_4658846a_342c_11eb_878e_a8a15930a2a5row4_col3\" class=\"data row4 col3\" >179549</td>\n",
       "                        <td id=\"T_4658846a_342c_11eb_878e_a8a15930a2a5row4_col4\" class=\"data row4 col4\" >232088</td>\n",
       "                        <td id=\"T_4658846a_342c_11eb_878e_a8a15930a2a5row4_col5\" class=\"data row4 col5\" >264036</td>\n",
       "                        <td id=\"T_4658846a_342c_11eb_878e_a8a15930a2a5row4_col6\" class=\"data row4 col6\" >161659</td>\n",
       "                        <td id=\"T_4658846a_342c_11eb_878e_a8a15930a2a5row4_col7\" class=\"data row4 col7\" >121808</td>\n",
       "                        <td id=\"T_4658846a_342c_11eb_878e_a8a15930a2a5row4_col8\" class=\"data row4 col8\" >107683</td>\n",
       "                        <td id=\"T_4658846a_342c_11eb_878e_a8a15930a2a5row4_col9\" class=\"data row4 col9\" >41688</td>\n",
       "                        <td id=\"T_4658846a_342c_11eb_878e_a8a15930a2a5row4_col10\" class=\"data row4 col10\" >115</td>\n",
       "            </tr>\n",
       "    </tbody></table>"
      ],
      "text/plain": [
       "<pandas.io.formats.style.Styler at 0x20af3680e50>"
      ]
     },
     "execution_count": 3,
     "metadata": {},
     "output_type": "execute_result"
    }
   ],
   "source": [
    "# Day-by-day interpolated data. \n",
    "# Note: ic.resample behaves better than DataFrame.resample() + interpolate() for my use case. See the docstring for more info.\n",
    "resampled = ic.resample(data, freq='1D', hour=18, method='pchip')\n",
    "(resampled.cases.tail().style\n",
    "     .set_caption(\"Casi totali dall'inizio della pandemia (dati interpolati, ultimi 5 giorni)\")\n",
    ")"
   ]
  },
  {
   "cell_type": "markdown",
   "metadata": {},
   "source": [
    "## Numero medio di casi/decessi per periodi di N giorni"
   ]
  },
  {
   "cell_type": "code",
   "execution_count": 4,
   "metadata": {},
   "outputs": [
    {
     "data": {
      "application/vnd.jupyter.widget-view+json": {
       "model_id": "bd329899e9ea444880aa17d6d2a59dac",
       "version_major": 2,
       "version_minor": 0
      },
      "text/plain": [
       "HBox(children=(GridBox(children=(VBox(children=(Label(value='Casi / Decessi:'), Dropdown(options=(('Casi', 'ca…"
      ]
     },
     "metadata": {},
     "output_type": "display_data"
    }
   ],
   "source": [
    "util.with_interaction(\n",
    "    util.display_averages_by_period_table,\n",
    "    controls=dict(\n",
    "        data = widgets.fixed(data),\n",
    "        variable = util.variable_form_field(),\n",
    "        freq = ('Periodi', widgets.SelectionSlider(\n",
    "            options=[('14 giorni', 14), ('28 giorni', 28), ('Mesi', 'M')],\n",
    "            value='M'\n",
    "        )),\n",
    "        age_group_size = util.age_group_size_form_field(10),\n",
    "        normalize = ('Percentuali', widgets.Checkbox(value=True)),\n",
    "        gradient_axis = ('Asse gradiente', widgets.Dropdown(\n",
    "            options=[(\"Verticale\", 0), (\"Orizzontale\", 1)],\n",
    "            value=1,\n",
    "        ),)\n",
    "    ),\n",
    "    output_position='right'\n",
    ")"
   ]
  },
  {
   "cell_type": "code",
   "execution_count": 5,
   "metadata": {},
   "outputs": [
    {
     "data": {
      "application/vnd.jupyter.widget-view+json": {
       "model_id": "b9ed48320b7344ea950d3ec2306b48f7",
       "version_major": 2,
       "version_minor": 0
      },
      "text/plain": [
       "HBox(children=(GridBox(children=(VBox(children=(Label(value='Casi / Decessi:'), Dropdown(options=(('Casi', 'ca…"
      ]
     },
     "metadata": {},
     "output_type": "display_data"
    }
   ],
   "source": [
    "util.with_interaction(\n",
    "    ic.charts.bar.average_by_period_bar_chart,\n",
    "    controls=dict(\n",
    "        counts = widgets.fixed(data),\n",
    "        variable = util.variable_form_field(),\n",
    "        age_group_size = util.age_group_size_form_field(),\n",
    "        freq = ('Periodi', widgets.SelectionSlider(\n",
    "            options=[('7 giorni', 7), ('14 giorni', 14), ('28 giorni', 28), ('Mesi', 'M')],\n",
    "            value=28\n",
    "        )),\n",
    "        normalize = ('Normalizza', widgets.Checkbox(value=True)),\n",
    "        stacked = ('Barre impilate', widgets.Checkbox(value=True)),\n",
    "        ylim = ('Limite asse y (%)', widgets.FloatSlider(value=1.0, min=0.05, max=1.0, step=0.05, continuous_update=True)),\n",
    "    ),\n",
    "    output_position='right',\n",
    ")"
   ]
  },
  {
   "cell_type": "markdown",
   "metadata": {},
   "source": [
    "## Media mobile a N giorni dei nuovi casi/decessi\n",
    "\n",
    "Versione continua del grafico precedente."
   ]
  },
  {
   "cell_type": "code",
   "execution_count": 6,
   "metadata": {},
   "outputs": [
    {
     "data": {
      "application/vnd.jupyter.widget-view+json": {
       "model_id": "a37f8a6408e54d6a8004de39c14043eb",
       "version_major": 2,
       "version_minor": 0
      },
      "text/plain": [
       "VBox(children=(GridBox(children=(Label(value='Casi / Decessi:', layout=Layout(display='flex', justify_content=…"
      ]
     },
     "metadata": {},
     "output_type": "display_data"
    }
   ],
   "source": [
    "import iccas as ic\n",
    "\n",
    "util.with_interaction(\n",
    "    ic.charts.double_area_chart_of_running_averages,\n",
    "    controls=dict(\n",
    "        data = widgets.fixed(resampled),\n",
    "        variable = util.variable_form_field(),\n",
    "        window = util.window_form_field(7),\n",
    "        age_group_size = util.age_group_size_form_field(),\n",
    "        period = util.period_form_field(resampled.index)\n",
    "    )\n",
    ")"
   ]
  },
  {
   "cell_type": "code",
   "execution_count": 7,
   "metadata": {},
   "outputs": [
    {
     "data": {
      "application/vnd.jupyter.widget-view+json": {
       "model_id": "b07f400495784f2e81e7c6a746501b14",
       "version_major": 2,
       "version_minor": 0
      },
      "text/plain": [
       "VBox(children=(GridBox(children=(Label(value='Casi / Decessi:', layout=Layout(display='flex', justify_content=…"
      ]
     },
     "metadata": {},
     "output_type": "display_data"
    }
   ],
   "source": [
    "def lineplot_age_group(resampled, variable='cases', age_range=(60, None), window=14, period=None):\n",
    "    fig, ax = plt.subplots(figsize=(13, 8))\n",
    "    age_islice = slice(\n",
    "        age_range[0] // 10,\n",
    "        age_range[1] // 10 if age_range[1] is not None else None,\n",
    "    )\n",
    "    d = resampled[variable].iloc[:, age_islice].sum(axis=1).diff(window).dropna() / window\n",
    "    d.plot(ax=ax)\n",
    "    ax.set_xlabel('')\n",
    "    if age_range[1] is None or age_range[1] > 90:\n",
    "        title = f'Nuovi casi giornalieri di età superiore ai {age_range[0]} anni'\n",
    "    else:\n",
    "        a, b = age_range\n",
    "        title = f'Nuovi casi giornalieri di età compresa tra i {a} e i {b} anni'\n",
    "    if window > 1:\n",
    "        title = f'Media mobile a {window} giorni dei {title.lower()}'\n",
    "    ax.set_title(title)\n",
    "\n",
    "\n",
    "age_labels = list(range(0, 91, 10)) + ['[nessun limite]']\n",
    "age_values = list(range(0, 91, 10)) + [None]\n",
    "util.with_interaction(\n",
    "    lineplot_age_group,\n",
    "    controls=dict(\n",
    "        resampled=widgets.fixed(resampled),\n",
    "        variable=util.variable_form_field(),\n",
    "        window=util.window_form_field(),\n",
    "        age_range=(\"Range d'età\", widgets.SelectionRangeSlider(options=list(zip(age_labels, age_values)), index=(6, 10)))\n",
    "    )\n",
    ")"
   ]
  },
  {
   "cell_type": "markdown",
   "metadata": {},
   "source": [
    "# Animazione: distribuzione d'età dei nuovi casi nel tempo"
   ]
  },
  {
   "cell_type": "code",
   "execution_count": null,
   "metadata": {},
   "outputs": [],
   "source": [
    "population_by_age = ic.get_population_by_age_group().value\n",
    "population_age_distribution = population_by_age / population_by_age.sum()\n",
    "\n",
    "_, ax = plt.subplots(figsize=(13, 8))\n",
    "anim = ic.charts.AgeDistributionBarChart(\n",
    "    ax=ax,\n",
    "    counts=resampled, \n",
    "    variable='cases',\n",
    "    normalize=True,\n",
    "    age_group_size=10,\n",
    "    window=7,\n",
    "    population_distribution=population_age_distribution,\n",
    ").animation(interval=80)\n",
    "\n",
    "plt.close()  # Do not remove\n",
    "\n",
    "# This takes time (~40 secs)\n",
    "HTML(anim.to_jshtml())"
   ]
  },
  {
   "cell_type": "markdown",
   "metadata": {},
   "source": [
    "## Tasso di letalità\n",
    "\n",
    "Nei PDF dell'ISS, il tasso di letalità per ogni fascia d'età è calcolato dividendo il numero totale di casi per il numero totale di morti alla stessa data. Questo distorce la stima, dal momento che tra la data della diagnosi a quella del decesso passano normalmente alcuni giorni."
   ]
  },
  {
   "cell_type": "code",
   "execution_count": 9,
   "metadata": {},
   "outputs": [
    {
     "data": {
      "image/png": "[encoded data removed]",
      "text/plain": [
       "<Figure size 936x576 with 1 Axes>"
      ]
     },
     "metadata": {},
     "output_type": "display_data"
    }
   ],
   "source": [
    "def lineplot_fatality_rate(ax, cfr, title=''):\n",
    "    cfr.plot(ax=ax, title=title, xlabel='')\n",
    "    ic.charts.common.legend(ax=ax, title='Età');\n",
    "    ax.yaxis.set_major_formatter(mpl.ticker.PercentFormatter(xmax=1.0, decimals=0))\n",
    "\n",
    "naive_cfr = ic.fatality_rate(resampled, shift=0)\n",
    "_, ax = plt.subplots(figsize=(13, 8))\n",
    "lineplot_fatality_rate(ax, naive_cfr,  title='Decessi totali / casi totali')"
   ]
  },
  {
   "cell_type": "markdown",
   "metadata": {},
   "source": [
    "E' difficile produrre una stima precisa della letalità sulla base dei soli dati che abbiamo a disposizione (i casi e i decessi totali). Potremmo ottenere una stima migliore dividendo il numero di morti alla data $T$ per il numero di casi $N$ giorni prima, dove $N$ è il numero mediano di giorni che intercorrono tra la data di diagnosi e quella del decesso. Purtroppo, nemmeno questo dato è disponibile. Tuttavia, in [questo report dell'ISS](https://www.epicentro.iss.it/coronavirus/sars-cov-2-decessi-italia#8) sono disponibili i tempi mediani che intercorrono tra l'insorgenza dei sintomi, il ricovero e il decesso."
   ]
  },
  {
   "cell_type": "code",
   "execution_count": 10,
   "metadata": {},
   "outputs": [
    {
     "data": {
      "application/vnd.jupyter.widget-view+json": {
       "model_id": "eeb5c4d5d0b240068333465201f8cdf1",
       "version_major": 2,
       "version_minor": 0
      },
      "text/plain": [
       "VBox(children=(GridBox(children=(Label(value='Shift:', layout=Layout(display='flex', justify_content='flex-end…"
      ]
     },
     "metadata": {},
     "output_type": "display_data"
    }
   ],
   "source": [
    "# Source: https://www.epicentro.iss.it/coronavirus/sars-cov-2-decessi-italia#8\n",
    "MEDIAN_DAYS_FROM_SYMPTOMS_TO_DEATH = 12\n",
    "MEDIAN_DAYS_FROM_HOSPITALIZATION_TO_DEATH = 5\n",
    "\n",
    "def fatality_rate_table(cfr):\n",
    "    if isinstance(cfr, pd.Series):\n",
    "        cfr = cfr.to_frame(name='Case Fatality Rate')\n",
    "    return (\n",
    "        cfr.style\n",
    "        .format('{:.2%}')\n",
    "        .bar(vmax=1.0)\n",
    "    )\n",
    "\n",
    "def fatality_rate_comparison_table(resampled, shift):\n",
    "    cfr_no_shift = resampled.deaths.iloc[-1] / resampled.cases.iloc[-1]\n",
    "    cfr_with_shift = resampled.deaths.iloc[-1] / resampled.cases.iloc[-1-shift]\n",
    "    cfr_no_shift_label = 'Decessi totali / Casi totali'\n",
    "    cfr_with_shift_label = f'Decessi totali / Casi totali {shift} giorni prima'\n",
    "    comparison = pd.DataFrame({\n",
    "        cfr_no_shift_label: cfr_no_shift,\n",
    "        cfr_with_shift_label: cfr_with_shift\n",
    "    })\n",
    "    display(fatality_rate_table(comparison))\n",
    "\n",
    "util.with_interaction(\n",
    "    fatality_rate_comparison_table,\n",
    "    controls=dict(\n",
    "        resampled=widgets.fixed(resampled),\n",
    "        shift=('Shift', widgets.IntSlider(7, min=1, max=14))\n",
    "    ),\n",
    ")"
   ]
  },
  {
   "cell_type": "code",
   "execution_count": null,
   "metadata": {},
   "outputs": [],
   "source": []
  }
 ],
 "metadata": {
  "kernelspec": {
   "display_name": "Python 3",
   "language": "python",
   "name": "python3"
  },
  "language_info": {
   "codemirror_mode": {
    "name": "ipython",
    "version": 3
   },
   "file_extension": ".py",
   "mimetype": "text/x-python",
   "name": "python",
   "nbconvert_exporter": "python",
   "pygments_lexer": "ipython3",
   "version": "3.8.5"
  }
 },
 "nbformat": 4,
 "nbformat_minor": 4
}
