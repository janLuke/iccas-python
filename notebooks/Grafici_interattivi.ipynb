{
 "cells": [
  {
   "cell_type": "code",
   "execution_count": null,
   "metadata": {},
   "outputs": [],
   "source": [
    "%load_ext autoreload\n",
    "%autoreload 2\n",
    "\n",
    "import typing as ty\n",
    "from functools import partial\n",
    "\n",
    "import numpy as np\n",
    "import pandas as pd\n",
    "\n",
    "import matplotlib as mpl\n",
    "import matplotlib.pyplot as plt\n",
    "import seaborn as sns\n",
    "\n",
    "import ipywidgets as widgets\n",
    "from IPython.display import display, HTML\n",
    "\n",
    "import iccas as ic\n",
    "import util\n",
    "\n",
    "# Matplotlib settings and utilities\n",
    "%matplotlib inline\n",
    "plt.style.use('seaborn')\n",
    "mpl.rcParams.update({\n",
    "    'axes.titlesize': 16,\n",
    "    'axes.titley': 1.03,\n",
    "    'axes.labelsize': 14\n",
    "})\n",
    "\n",
    "ic.set_locale('it')"
   ]
  },
  {
   "cell_type": "markdown",
   "metadata": {},
   "source": [
    "## Correzione e pre-elaborazione dei dati\n",
    "\n",
    "I dati originali estratti dai bollettini PDF dell'ISS sono a tratti inconsistenti. Il numero di casi/decessi totali dall'inizio della pandemia dovrebbe infatti crescere nel tempo ma in alcuni tratti le serie temporali decrescono per poi tornare nuovamente a crescere. Questo problema è in realtà presente in maniera rilevante solo nei dati sui decessi ed è quasi del tutto assente nei dati sui casi. \n",
    "\n",
    "Visto che il più delle volte non si tratta di singoli punti anomali, presumo che le decrescite a valori più bassi siano dovute a rettifiche dei dati. Dunque, nel correggere i dati, ho assunto che i valori della serie che raggiungono temporaneamente livelli più alti di valori successivi siano invalidi e li ho sostituiti con valori interpolati (metodo PCHIP).\n",
    "\n",
    "Per maggiori dettagli si veda `Correzione_dati.ipynb`."
   ]
  },
  {
   "cell_type": "markdown",
   "metadata": {},
   "source": [
    "<center><img src='esempio_correzione.png'></center>"
   ]
  },
  {
   "cell_type": "code",
   "execution_count": null,
   "metadata": {},
   "outputs": [],
   "source": [
    "# Load original data, take only cases and deaths counts and fix monotonicity as explained above\n",
    "data = ic.fix_monotonicity(ic.only_counts(ic.get()))\n",
    "(data.cases.tail(5).style\n",
    "     .set_caption(\"Casi dall'inizio della pandemia (ultimi 5 bollettini)\")\n",
    ")"
   ]
  },
  {
   "cell_type": "markdown",
   "metadata": {},
   "source": [
    "I dati dei bollettini non sono uniformemente distribuiti nel tempo. Essi erano inizialmente bisettimanali e sono adesso settimanali, ma la cadenza non è mai stata regolare. Per alcuni grafici, mi è utile avere dati giornalieri. Otterò tali dati per interpolazione."
   ]
  },
  {
   "cell_type": "code",
   "execution_count": null,
   "metadata": {},
   "outputs": [],
   "source": [
    "# Day-by-day interpolated data. \n",
    "# Note: ic.resample behaves better than DataFrame.resample() + interpolate() for my use case. See the docstring for more info.\n",
    "resampled = ic.resample(data, freq='1D', hour=18, method='pchip')\n",
    "(resampled.cases.tail().style\n",
    "     .set_caption(\"Casi totali dall'inizio della pandemia (dati interpolati, ultimi 5 giorni)\")\n",
    ")"
   ]
  },
  {
   "cell_type": "markdown",
   "metadata": {},
   "source": [
    "## Numero medio di casi/decessi per periodi di N giorni"
   ]
  },
  {
   "cell_type": "code",
   "execution_count": null,
   "metadata": {},
   "outputs": [],
   "source": [
    "util.with_interaction(\n",
    "    util.display_averages_by_period_table,\n",
    "    controls=dict(\n",
    "        data = widgets.fixed(data),\n",
    "        variable = util.variable_form_field(),\n",
    "        freq = ('Periodi', widgets.SelectionSlider(\n",
    "            options=[('14 giorni', 14), ('28 giorni', 28), ('Mesi', 'M')],\n",
    "            value='M'\n",
    "        )),\n",
    "        age_group_size = util.age_group_size_form_field(10),\n",
    "        normalize = ('Percentuali', widgets.Checkbox(value=True)),\n",
    "        gradient_axis = ('Asse gradiente', widgets.Dropdown(\n",
    "            options=[(\"Verticale\", 0), (\"Orizzontale\", 1)],\n",
    "            value=1,\n",
    "        ),)\n",
    "    ),\n",
    "    output_position='right'\n",
    ")"
   ]
  },
  {
   "cell_type": "code",
   "execution_count": null,
   "metadata": {},
   "outputs": [],
   "source": [
    "util.with_interaction(\n",
    "    ic.charts.bar.average_by_period_bar_chart,\n",
    "    controls=dict(\n",
    "        counts = widgets.fixed(data),\n",
    "        variable = util.variable_form_field(),\n",
    "        age_group_size = util.age_group_size_form_field(),\n",
    "        freq = ('Periodi', widgets.SelectionSlider(\n",
    "            options=[('7 giorni', 7), ('14 giorni', 14), ('28 giorni', 28), ('Mesi', 'M')],\n",
    "            value=28\n",
    "        )),\n",
    "        normalize = ('Normalizza', widgets.Checkbox(value=True)),\n",
    "        stacked = ('Barre impilate', widgets.Checkbox(value=True)),\n",
    "        ylim = ('Limite asse y (%)', widgets.FloatSlider(value=1.0, min=0.05, max=1.0, step=0.05, continuous_update=True)),\n",
    "    ),\n",
    "    output_position='right',\n",
    ")"
   ]
  },
  {
   "cell_type": "markdown",
   "metadata": {},
   "source": [
    "## Media mobile a N giorni dei nuovi casi/decessi\n",
    "\n",
    "Versione continua del grafico precedente."
   ]
  },
  {
   "cell_type": "code",
   "execution_count": null,
   "metadata": {},
   "outputs": [],
   "source": [
    "import iccas as ic\n",
    "\n",
    "util.with_interaction(\n",
    "    ic.charts.double_area_chart_of_running_averages,\n",
    "    controls=dict(\n",
    "        data = widgets.fixed(resampled),\n",
    "        variable = util.variable_form_field(),\n",
    "        window = util.window_form_field(7),\n",
    "        age_group_size = util.age_group_size_form_field(),\n",
    "        period = util.period_form_field(resampled.index)\n",
    "    )\n",
    ")"
   ]
  },
  {
   "cell_type": "code",
   "execution_count": null,
   "metadata": {},
   "outputs": [],
   "source": [
    "def lineplot_age_group(resampled, variable='cases', age_range=(60, None), window=14, period=None):\n",
    "    fig, ax = plt.subplots(figsize=(13, 8))\n",
    "    age_islice = slice(\n",
    "        age_range[0] // 10,\n",
    "        age_range[1] // 10 if age_range[1] is not None else None,\n",
    "    )\n",
    "    d = resampled[variable].iloc[:, age_islice].sum(axis=1).diff(window).dropna() / window\n",
    "    d.plot(ax=ax)\n",
    "    ax.set_xlabel('')\n",
    "    if age_range[1] is None or age_range[1] > 90:\n",
    "        title = f'Nuovi casi giornalieri di età superiore ai {age_range[0]} anni'\n",
    "    else:\n",
    "        a, b = age_range\n",
    "        title = f'Nuovi casi giornalieri di età compresa tra i {a} e i {b} anni'\n",
    "    if window > 1:\n",
    "        title = f'Media mobile a {window} giorni dei {title.lower()}'\n",
    "    ax.set_title(title)\n",
    "\n",
    "\n",
    "age_labels = list(range(0, 91, 10)) + ['[nessun limite]']\n",
    "age_values = list(range(0, 91, 10)) + [None]\n",
    "util.with_interaction(\n",
    "    lineplot_age_group,\n",
    "    controls=dict(\n",
    "        resampled=widgets.fixed(resampled),\n",
    "        variable=util.variable_form_field(),\n",
    "        window=util.window_form_field(),\n",
    "        age_range=(\"Range d'età\", widgets.SelectionRangeSlider(options=list(zip(age_labels, age_values)), index=(6, 10)))\n",
    "    )\n",
    ")"
   ]
  },
  {
   "cell_type": "markdown",
   "metadata": {},
   "source": [
    "# Animazione: distribuzione d'età dei nuovi casi nel tempo"
   ]
  },
  {
   "cell_type": "code",
   "execution_count": null,
   "metadata": {},
   "outputs": [],
   "source": [
    "population_by_age = ic.get_population_by_age_group().value\n",
    "population_age_distribution = population_by_age / population_by_age.sum()\n",
    "\n",
    "_, ax = plt.subplots(figsize=(13, 8))\n",
    "anim = ic.charts.AgeDistributionBarChart(\n",
    "    ax=ax,\n",
    "    counts=resampled, \n",
    "    variable='cases',\n",
    "    normalize=True,\n",
    "    age_group_size=10,\n",
    "    window=7,\n",
    "    population_distribution=population_age_distribution,\n",
    ").animation(interval=80)\n",
    "\n",
    "plt.close()  # Do not remove\n",
    "\n",
    "# This takes time (~40 secs)\n",
    "HTML(anim.to_jshtml())"
   ]
  },
  {
   "cell_type": "markdown",
   "metadata": {},
   "source": [
    "## Tasso di letalità\n",
    "\n",
    "Nei PDF dell'ISS, il tasso di letalità per ogni fascia d'età è calcolato dividendo il numero totale di casi per il numero totale di morti alla stessa data. Questo distorce la stima, dal momento che tra la data della diagnosi a quella del decesso passano normalmente alcuni giorni."
   ]
  },
  {
   "cell_type": "code",
   "execution_count": null,
   "metadata": {},
   "outputs": [],
   "source": [
    "def lineplot_fatality_rate(ax, cfr, title=''):\n",
    "    cfr.plot(ax=ax, title=title, xlabel='')\n",
    "    ic.charts.common.legend(ax=ax, title='Età');\n",
    "    ax.yaxis.set_major_formatter(mpl.ticker.PercentFormatter(xmax=1.0, decimals=0))\n",
    "\n",
    "naive_cfr = ic.fatality_rate(resampled, shift=0)\n",
    "_, ax = plt.subplots(figsize=(13, 8))\n",
    "lineplot_fatality_rate(ax, naive_cfr,  title='Decessi totali / casi totali')"
   ]
  },
  {
   "cell_type": "markdown",
   "metadata": {},
   "source": [
    "E' difficile produrre una stima precisa della letalità sulla base dei soli dati che abbiamo a disposizione (i casi e i decessi totali). Potremmo ottenere una stima migliore dividendo il numero di morti alla data $T$ per il numero di casi $N$ giorni prima, dove $N$ è il numero mediano di giorni che intercorrono tra la data di diagnosi e quella del decesso. Purtroppo, nemmeno questo dato è disponibile. Tuttavia, in [questo report dell'ISS](https://www.epicentro.iss.it/coronavirus/sars-cov-2-decessi-italia#8) sono disponibili i tempi mediani che intercorrono tra l'insorgenza dei sintomi, il ricovero e il decesso."
   ]
  },
  {
   "cell_type": "code",
   "execution_count": null,
   "metadata": {},
   "outputs": [],
   "source": [
    "# Source: https://www.epicentro.iss.it/coronavirus/sars-cov-2-decessi-italia#8\n",
    "MEDIAN_DAYS_FROM_SYMPTOMS_TO_DEATH = 12\n",
    "MEDIAN_DAYS_FROM_HOSPITALIZATION_TO_DEATH = 5\n",
    "\n",
    "def fatality_rate_table(cfr):\n",
    "    if isinstance(cfr, pd.Series):\n",
    "        cfr = cfr.to_frame(name='Case Fatality Rate')\n",
    "    return (\n",
    "        cfr.style\n",
    "        .format('{:.2%}')\n",
    "        .bar(vmax=1.0)\n",
    "    )\n",
    "\n",
    "def fatality_rate_comparison_table(resampled, shift):\n",
    "    cfr_no_shift = resampled.deaths.iloc[-1] / resampled.cases.iloc[-1]\n",
    "    cfr_with_shift = resampled.deaths.iloc[-1] / resampled.cases.iloc[-1-shift]\n",
    "    cfr_no_shift_label = 'Decessi totali / Casi totali'\n",
    "    cfr_with_shift_label = f'Decessi totali / Casi totali {shift} giorni prima'\n",
    "    comparison = pd.DataFrame({\n",
    "        cfr_no_shift_label: cfr_no_shift,\n",
    "        cfr_with_shift_label: cfr_with_shift\n",
    "    })\n",
    "    display(fatality_rate_table(comparison))\n",
    "\n",
    "util.with_interaction(\n",
    "    fatality_rate_comparison_table,\n",
    "    controls=dict(\n",
    "        resampled=widgets.fixed(resampled),\n",
    "        shift=('Shift', widgets.IntSlider(7, min=1, max=14))\n",
    "    ),\n",
    ")"
   ]
  },
  {
   "cell_type": "code",
   "execution_count": null,
   "metadata": {},
   "outputs": [],
   "source": []
  }
 ],
 "metadata": {
  "kernelspec": {
   "display_name": "Python 3",
   "language": "python",
   "name": "python3"
  },
  "language_info": {
   "codemirror_mode": {
    "name": "ipython",
    "version": 3
   },
   "file_extension": ".py",
   "mimetype": "text/x-python",
   "name": "python",
   "nbconvert_exporter": "python",
   "pygments_lexer": "ipython3",
   "version": "3.8.5"
  }
 },
 "nbformat": 4,
 "nbformat_minor": 4
}
